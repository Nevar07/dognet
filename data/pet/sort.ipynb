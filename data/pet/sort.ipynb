{
 "cells": [
  {
   "cell_type": "code",
   "execution_count": 1,
   "metadata": {},
   "outputs": [],
   "source": [
    "import os\n",
    "import csv\n",
    "import numpy as np\n",
    "import shutil"
   ]
  },
  {
   "cell_type": "code",
   "execution_count": 2,
   "metadata": {},
   "outputs": [
    {
     "data": {
      "text/plain": [
       "'nose print image'"
      ]
     },
     "execution_count": 2,
     "metadata": {},
     "output_type": "execute_result"
    }
   ],
   "source": [
    "ids = []\n",
    "imgs = []\n",
    "\n",
    "with open('train/train_data.csv', 'r') as f:\n",
    "    data_csv = csv.reader(f)\n",
    "    for row in data_csv:\n",
    "        ids.append(row[0])\n",
    "        imgs.append(row[1])\n",
    "ids.pop(0)\n",
    "imgs.pop(0)\n"
   ]
  },
  {
   "cell_type": "code",
   "execution_count": 3,
   "metadata": {},
   "outputs": [
    {
     "name": "stdout",
     "output_type": "stream",
     "text": [
      "max_num:8, num:43\n",
      "min_num:2, num：1771\n"
     ]
    }
   ],
   "source": [
    "max_num = 0\n",
    "min_num = 100\n",
    "n = 0\n",
    "ini = ids[0]\n",
    "max_id = []\n",
    "min_id = []\n",
    "for i in ids:\n",
    "    if i != ini:\n",
    "        if n > max_num: \n",
    "            max_num = n\n",
    "            max_id = [i]\n",
    "        if n == max_num and i not in max_id:\n",
    "            max_id.append(i)\n",
    "        if n < min_num: \n",
    "            min_num = n\n",
    "            min_id = [i]\n",
    "        if n == min_num and i not in min_id:\n",
    "            min_id.append(i)\n",
    "        n = 1\n",
    "        ini = i\n",
    "    else: \n",
    "        n+=1\n",
    "print(f'max_num:{max_num}, num:{len(max_id)}')\n",
    "print(f'min_num:{min_num}, num：{len(min_id)}')\n",
    "    \n",
    "    "
   ]
  },
  {
   "cell_type": "code",
   "execution_count": 5,
   "metadata": {},
   "outputs": [
    {
     "name": "stdout",
     "output_type": "stream",
     "text": [
      "20000 images sorted into 6000 classes.\n"
     ]
    }
   ],
   "source": [
    "ids_app =  []\n",
    "num = 0\n",
    "for i,id in enumerate(ids):\n",
    "    if id not in ids_app:\n",
    "        ids_app.append(id)\n",
    "        os.mkdir(os.path.join('../sorted',id))\n",
    "    shutil.copy(os.path.join('train/images',imgs[i]),os.path.join('../sorted',id,imgs[i]))\n",
    "    num += 1\n",
    "print(f'{num} images sorted into {len(ids_app)} classes.')"
   ]
  },
  {
   "cell_type": "code",
   "execution_count": null,
   "metadata": {},
   "outputs": [],
   "source": []
  },
  {
   "cell_type": "code",
   "execution_count": null,
   "metadata": {},
   "outputs": [],
   "source": []
  },
  {
   "cell_type": "code",
   "execution_count": null,
   "metadata": {},
   "outputs": [],
   "source": []
  },
  {
   "cell_type": "code",
   "execution_count": null,
   "metadata": {},
   "outputs": [],
   "source": []
  },
  {
   "cell_type": "code",
   "execution_count": null,
   "metadata": {},
   "outputs": [],
   "source": []
  },
  {
   "cell_type": "code",
   "execution_count": null,
   "metadata": {},
   "outputs": [],
   "source": []
  }
 ],
 "metadata": {
  "interpreter": {
   "hash": "a1be19c0fcafcdd59da38d2dcbefb10771c128b7095805aebb0277febd7370ae"
  },
  "kernelspec": {
   "display_name": "Python 3.6.13 ('py36_acv': conda)",
   "language": "python",
   "name": "python3"
  },
  "language_info": {
   "codemirror_mode": {
    "name": "ipython",
    "version": 3
   },
   "file_extension": ".py",
   "mimetype": "text/x-python",
   "name": "python",
   "nbconvert_exporter": "python",
   "pygments_lexer": "ipython3",
   "version": "3.6.13"
  },
  "orig_nbformat": 4
 },
 "nbformat": 4,
 "nbformat_minor": 2
}
